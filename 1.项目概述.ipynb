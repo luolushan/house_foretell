{
 "cells": [
  {
   "cell_type": "markdown",
   "metadata": {},
   "source": [
    "# 项目概述"
   ]
  },
  {
   "cell_type": "markdown",
   "metadata": {},
   "source": [
    "## 项目简介\n",
    "当今社会，房屋租金由装修情况、位置地段、户型格局、交通便利程度、市场供需量等多方面因素综合决定，对于租房这个相对传统的行业来说，信息严重不对称一直存在。一方面，房东不了解租房的市场真实价格，只能忍痛空置高租金的房屋；另一方面，租客也找不到满足自己需求高性价比房屋，这造成了租房资源的极大浪费。\n",
    "\n",
    "赛题将基于租房市场的痛点，提供脱敏处理后的真实租房市场数据。选手需要利用有月租金标签的历史数据建立模型，实现基于房屋基本信息的住房月租金预测，为该城市租房市场提供客观衡量标准。"
   ]
  },
  {
   "cell_type": "markdown",
   "metadata": {},
   "source": [
    "## 项目目的\n",
    "\n",
    "- 主要目的是通过该项目熟悉机器学习建模的整个流程\n",
    "- 通过该项目熟悉利用pandas进行数据分析/数据清洗/数据处理\n",
    "- 通过该项目了解利用matplotlib/seaborn进行数据可视化展示\n",
    "- 通过该项目熟悉如何进行缺失值处理/特征构造\n",
    "- 通过该项目熟悉如何使用sklearn机器学习库进行机器学习建模\n",
    "- 熟悉如何进行特征选择和利用交叉验证/网格搜索等技术进行参数调优\n",
    "- 熟悉利用bagging/boosting/stacking等集成方法来提高模型的泛化性能\n"
   ]
  },
  {
   "cell_type": "markdown",
   "metadata": {},
   "source": [
    "## 项目涉及知识点\n",
    "- numpy,pandas,matplotlib,seaborn等\n",
    "- sklearn机器学习库的使用\n",
    "- xgboost使用\n",
    "- 缺失值处理/异常值处理方法\n",
    "- 特征衍生技巧"
   ]
  },
  {
   "cell_type": "markdown",
   "metadata": {},
   "source": [
    "# 项目数据介绍\n",
    "数据为某地4个月的房屋租赁价格以及房屋的基本信息，官方对数据进行了脱敏处理。参赛选手需要利用数据集中的房屋信息和月租金训练模型，利用测试集中的房屋信息对测试数据集中的房屋的月租金进行预测。数据集分为两组，分别是训练集和测试集。训练集为前3个月采集的数据，共196539条。\n",
    "\n",
    "该项目数据共有196539条记录,共有19列,其中18个特征,1个目标值(月租金)\n",
    "- 时间          196539 non-null int64\n",
    "- 小区名         196539 non-null int64\n",
    "- 小区房屋出租数量    195538 non-null float64\n",
    "- 楼层          196539 non-null int64\n",
    "- 总楼层         196539 non-null float64\n",
    "- 房屋面积        196539 non-null float64\n",
    "- 房屋朝向        196539 non-null object\n",
    "- 居住状态        20138 non-null float64\n",
    "- 卧室数量        196539 non-null int64\n",
    "- 厅的数量        196539 non-null int64\n",
    "- 卫的数量        196539 non-null int64\n",
    "- 出租方式        24230 non-null float64\n",
    "- 区           196508 non-null float64\n",
    "- 位置          196508 non-null float64\n",
    "- 地铁线路        91778 non-null float64\n",
    "- 地铁站点        91778 non-null float64\n",
    "- 距离          91778 non-null float64\n",
    "- 装修情况        18492 non-null float64\n",
    "- 月租金         196539 non-null float64\n",
    "\n",
    "\n",
    "数据全部经过脱敏处理,多数列本身已经不能看出真实的含义:\n",
    "![数据](img/shuju.png)\n",
    "\n"
   ]
  },
  {
   "cell_type": "markdown",
   "metadata": {},
   "source": [
    "# 评估方式\n",
    "评价指标是RMSE（均方根误差），是回归算法的常用评价指标。算法通过计算预测值和真实房租月租金的均方根误差来衡量回归模型的优劣。均方根误差越小，说明回归模型越好。均方根误差计算公式如下\n",
    "![rmse\n",
    "](img/rmse.png)\n",
    "其中，$\\widehat{X}$是房屋月租金的预测值，X是对应房屋的真实月租金。"
   ]
  },
  {
   "cell_type": "code",
   "execution_count": null,
   "metadata": {},
   "outputs": [],
   "source": []
  },
  {
   "cell_type": "code",
   "execution_count": 1,
   "metadata": {},
   "outputs": [],
   "source": [
    "# matplotlib==2.2.2\n",
    "# numpy==1.14.2\n",
    "# pandas==0.20.3\n",
    "# tables==3.4.2\n",
    "# jupyter==1.0.0\n",
    "# pip install sklearn\n",
    "# pip install xgboost"
   ]
  },
  {
   "cell_type": "code",
   "execution_count": null,
   "metadata": {},
   "outputs": [],
   "source": []
  }
 ],
 "metadata": {
  "kernelspec": {
   "display_name": "Python 3",
   "language": "python",
   "name": "python3"
  },
  "language_info": {
   "codemirror_mode": {
    "name": "ipython",
    "version": 3
   },
   "file_extension": ".py",
   "mimetype": "text/x-python",
   "name": "python",
   "nbconvert_exporter": "python",
   "pygments_lexer": "ipython3",
   "version": "3.6.8"
  },
  "toc": {
   "base_numbering": 1,
   "nav_menu": {},
   "number_sections": true,
   "sideBar": true,
   "skip_h1_title": false,
   "title_cell": "Table of Contents",
   "title_sidebar": "Contents",
   "toc_cell": false,
   "toc_position": {},
   "toc_section_display": true,
   "toc_window_display": false
  }
 },
 "nbformat": 4,
 "nbformat_minor": 2
}
